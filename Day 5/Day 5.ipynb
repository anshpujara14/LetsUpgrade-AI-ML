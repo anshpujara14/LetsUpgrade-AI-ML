{
 "cells": [
  {
   "cell_type": "markdown",
   "metadata": {},
   "source": [
    "## NAME : ANSH PUJARA\n",
    "## AI-ML BATCH 1\n",
    "## DAY 5ASSIGNMENT"
   ]
  },
  {
   "cell_type": "markdown",
   "metadata": {},
   "source": [
    "### Q1. Python program to find first 20 non-even prime numbers"
   ]
  },
  {
   "cell_type": "code",
   "execution_count": 1,
   "metadata": {},
   "outputs": [
    {
     "name": "stdout",
     "output_type": "stream",
     "text": [
      "3\n",
      "5\n",
      "7\n",
      "9\n",
      "11\n",
      "13\n",
      "15\n",
      "17\n",
      "19\n",
      "21\n",
      "23\n",
      "25\n",
      "27\n",
      "29\n",
      "31\n",
      "33\n",
      "35\n",
      "37\n",
      "39\n",
      "41\n",
      "43\n"
     ]
    }
   ],
   "source": [
    "num = 3\n",
    "c = 0\n",
    "while c<=20:\n",
    "    if num > 1 & (num % 2 != 0):\n",
    "        for i in range(2,num):\n",
    "            if (num % i) == 0:\n",
    "                break\n",
    "            else:\n",
    "                print(num)\n",
    "                c+=1\n",
    "                break\n",
    "    num+=1"
   ]
  },
  {
   "cell_type": "markdown",
   "metadata": {},
   "source": [
    "### Q2. Implement 15 functions on python"
   ]
  },
  {
   "cell_type": "code",
   "execution_count": 5,
   "metadata": {},
   "outputs": [
    {
     "name": "stdout",
     "output_type": "stream",
     "text": [
      "hELLO wORLD!\n",
      "hello world!\n",
      "HELLO WORLD!\n",
      "False\n",
      "Hezzo Worzd!\n",
      "12\n",
      "2\n",
      "-1\n",
      "['Hello', 'World!']\n",
      "Python Strings\n",
      "('Hello ', 'World', '!')\n",
      "2\n",
      "False\n",
      "7\n"
     ]
    }
   ],
   "source": [
    "s1 = \"Hello World!\"\n",
    "s2 = \"Python Strings\"\n",
    "\n",
    "print(s1.swapcase())\n",
    "print(s1.lower())\n",
    "print(s1.upper())\n",
    "print(s1.isalpha())\n",
    "print(s1.replace('l','z'))\n",
    "print(len(s1))\n",
    "print(s1.find('l'))\n",
    "print(s1.find('t',5,8))\n",
    "print(s1.split())\n",
    "print(s2.strip())\n",
    "print(s1.partition(\"World\"))\n",
    "print(s1.count(\"o\"))\n",
    "print(s1.isnumeric())\n",
    "print(s2.index(\"Strings\"))"
   ]
  },
  {
   "cell_type": "markdown",
   "metadata": {},
   "source": [
    "### Q3. Python program to check if a string is a palindrome or anagram or none"
   ]
  },
  {
   "cell_type": "code",
   "execution_count": 7,
   "metadata": {},
   "outputs": [
    {
     "name": "stdout",
     "output_type": "stream",
     "text": [
      "mom\n",
      "omm\n",
      "mom is a palindrome\n",
      "Strings are anagram\n"
     ]
    }
   ],
   "source": [
    "s1=str(input())\n",
    "stemp=s1[::-1]\n",
    "s2=str(input())\n",
    "if s1==stemp:\n",
    "    print(s1,\"is a palindrome\")\n",
    "if sorted(s1) == sorted(s2):\n",
    "    print(\"Strings are anagram\")\n",
    "else:\n",
    "    print(\"None\")"
   ]
  },
  {
   "cell_type": "markdown",
   "metadata": {},
   "source": [
    "### Q4. Remove all aditional characters from string"
   ]
  },
  {
   "cell_type": "code",
   "execution_count": 10,
   "metadata": {},
   "outputs": [
    {
     "name": "stdout",
     "output_type": "stream",
     "text": [
      "SaMpleEmaiL1342@gmaiLL.#$con1\n",
      "sampleemailgmaillcon\n"
     ]
    }
   ],
   "source": [
    "s1 = str(input())\n",
    "s1 = s1.lower()\n",
    "s2 = \"\"\n",
    "for c in s1:\n",
    "    if c.isalpha():\n",
    "        s2 += c\n",
    "print(s2)"
   ]
  }
 ],
 "metadata": {
  "kernelspec": {
   "display_name": "Python 3",
   "language": "python",
   "name": "python3"
  },
  "language_info": {
   "codemirror_mode": {
    "name": "ipython",
    "version": 3
   },
   "file_extension": ".py",
   "mimetype": "text/x-python",
   "name": "python",
   "nbconvert_exporter": "python",
   "pygments_lexer": "ipython3",
   "version": "3.7.6"
  }
 },
 "nbformat": 4,
 "nbformat_minor": 4
}
