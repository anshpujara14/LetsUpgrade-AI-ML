{
 "cells": [
  {
   "cell_type": "markdown",
   "metadata": {},
   "source": [
    "## NAME : ANSH PUJARA\n",
    "## AI-ML BATCH 1\n",
    "## DAY 3 ASSIGNMENT"
   ]
  },
  {
   "cell_type": "markdown",
   "metadata": {},
   "source": [
    "### Q1. Program to subtract two complex numbers in Python"
   ]
  },
  {
   "cell_type": "code",
   "execution_count": 3,
   "metadata": {},
   "outputs": [
    {
     "name": "stdout",
     "output_type": "stream",
     "text": [
      "(2+2j)\n"
     ]
    }
   ],
   "source": [
    "def difference(num1, num2):\n",
    "    return (num1 - num2)\n",
    "\n",
    "num1 = 3 + 5j\n",
    "num2 = 1 + 3j\n",
    "\n",
    "diff = difference(num1, num2)\n",
    "print(diff)"
   ]
  },
  {
   "cell_type": "markdown",
   "metadata": {},
   "source": [
    "### Q2. Program to return 4th root of a number"
   ]
  },
  {
   "cell_type": "code",
   "execution_count": 5,
   "metadata": {},
   "outputs": [
    {
     "name": "stdout",
     "output_type": "stream",
     "text": [
      "2.0\n"
     ]
    }
   ],
   "source": [
    "def fourthroot(num1):\n",
    "    return num1**(1/4)\n",
    "\n",
    "print(fourthroot(16))"
   ]
  },
  {
   "cell_type": "markdown",
   "metadata": {},
   "source": [
    "### Q3. Swap two numbers using temporary variable"
   ]
  },
  {
   "cell_type": "code",
   "execution_count": 10,
   "metadata": {},
   "outputs": [
    {
     "name": "stdout",
     "output_type": "stream",
     "text": [
      "num1 and num2 after swap:  (11, 10)\n"
     ]
    }
   ],
   "source": [
    "def swap(num1, num2):\n",
    "    temp = num1\n",
    "    num1 = num2\n",
    "    num2 = temp\n",
    "    return num1, num2\n",
    "\n",
    "num1 = 10\n",
    "num2 = 11\n",
    "print(\"num1 and num2 after swap: \", swap(num1, num2))"
   ]
  },
  {
   "cell_type": "markdown",
   "metadata": {},
   "source": [
    "### Q4. Swap two numbers without using temporary variable"
   ]
  },
  {
   "cell_type": "code",
   "execution_count": 6,
   "metadata": {},
   "outputs": [
    {
     "name": "stdout",
     "output_type": "stream",
     "text": [
      "num1 and num2 after swap:  (11, 10)\n"
     ]
    }
   ],
   "source": [
    "def swapwithouttemp(num1, num2):\n",
    "    num1 = num1 + num2\n",
    "    num2 = num1 - num2\n",
    "    num1 = num1 - num2\n",
    "    return num1, num2\n",
    "\n",
    "num1 = 10\n",
    "num2 = 11\n",
    "print(\"num1 and num2 after swap: \", swapwithouttemp(num1, num2))"
   ]
  },
  {
   "cell_type": "markdown",
   "metadata": {},
   "source": [
    "### Q5. Program to convert Farenheit to Kelvin and Celcius"
   ]
  },
  {
   "cell_type": "code",
   "execution_count": 13,
   "metadata": {},
   "outputs": [
    {
     "name": "stdout",
     "output_type": "stream",
     "text": [
      "Farenheit to Kelvin:  311.48\n",
      "Farenheit to Celcius:  38.33\n"
     ]
    }
   ],
   "source": [
    "def convertfarenheit(temp):\n",
    "    kelvin = (temp - 32)*(5/9) + 273.15\n",
    "    print(\"Farenheit to Kelvin: \", round(kelvin, 2))\n",
    "    celcius = kelvin - 273.15\n",
    "    print(\"Farenheit to Celcius: \", round(celcius, 2))\n",
    "\n",
    "temp = 101\n",
    "convertfarenheit(temp)"
   ]
  },
  {
   "cell_type": "markdown",
   "metadata": {},
   "source": [
    "### Q6. Program to demonstrate all datatypes in python"
   ]
  },
  {
   "cell_type": "code",
   "execution_count": 14,
   "metadata": {},
   "outputs": [
    {
     "name": "stdout",
     "output_type": "stream",
     "text": [
      "<class 'int'>\n",
      "<class 'float'>\n",
      "<class 'str'>\n",
      "<class 'list'>\n",
      "<class 'dict'>\n",
      "<class 'tuple'>\n",
      "<class 'complex'>\n"
     ]
    }
   ],
   "source": [
    "a = 10\n",
    "b = 2.333333\n",
    "c = \"Hello World!\"\n",
    "d = [1, 2, 3, 5]\n",
    "e = {1:'Yes', 0:'No'}\n",
    "f = (1, 2, 4, 5, 6)\n",
    "g = 1 + 2j\n",
    "\n",
    "print(type(a))\n",
    "print(type(b))\n",
    "print(type(c))\n",
    "print(type(d))\n",
    "print(type(e))\n",
    "print(type(f))\n",
    "print(type(g))"
   ]
  },
  {
   "cell_type": "markdown",
   "metadata": {},
   "source": [
    "### Q7. Steps to create a GitHub Profie and upload assignment links"
   ]
  },
  {
   "cell_type": "markdown",
   "metadata": {},
   "source": [
    "### Creating Profile\n",
    "Step 1: Create a GitHub Profile on github.com using either Gmail account or any Email ID<br><br>\n",
    "Step 2: Activate account through activation link that will arrive in email<br><br>\n",
    "Step 3: Sign In to the account<br><br>\n",
    "\n",
    "\n",
    "### Creating repository\n",
    "Step 1: Go to your GitHub account<br><br>\n",
    "Step 2: Click on \"New\" on the top-left corner<br><br>\n",
    "Step 3: Set the \"Repository Name\" as \"LetsUpgrade AI-ML\"<br><br>\n",
    "Step 4: Let it be \"Public\" (default)<br><br>\n",
    "Step 5: Click on \"Create repository\"<br><br>\n",
    "\n",
    "### Uploading files\n",
    "Step 1: Store all the files into a folder named as per the day e.g \"Day 3\"<br><br>\n",
    "Step 2: On the GitHub repository click on \"upload an existing file\"<br><br>\n",
    "Step 3: Drag and drop the folder<br><br>\n",
    "Step 4: Click on \"Commit changes\"<br><br>\n",
    "\n",
    "### Submit the assignment\n",
    "Step 1: Copy the link to your repository folder<br><br>\n",
    "Step 2: Fill the Assignment submission google-form with accurate details<br><br>\n",
    "Step 3: Paste the link in the form and select the correct Assignment number<br><br>\n",
    "Step 4: Submit"
   ]
  },
  {
   "cell_type": "markdown",
   "metadata": {},
   "source": []
  },
  {
   "cell_type": "markdown",
   "metadata": {},
   "source": []
  },
  {
   "cell_type": "markdown",
   "metadata": {},
   "source": []
  },
  {
   "cell_type": "markdown",
   "metadata": {},
   "source": []
  },
  {
   "cell_type": "markdown",
   "metadata": {},
   "source": []
  }
 ],
 "metadata": {
  "kernelspec": {
   "display_name": "Python 3",
   "language": "python",
   "name": "python3"
  },
  "language_info": {
   "codemirror_mode": {
    "name": "ipython",
    "version": 3
   },
   "file_extension": ".py",
   "mimetype": "text/x-python",
   "name": "python",
   "nbconvert_exporter": "python",
   "pygments_lexer": "ipython3",
   "version": "3.7.6"
  }
 },
 "nbformat": 4,
 "nbformat_minor": 4
}
