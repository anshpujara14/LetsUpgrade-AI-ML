{
 "cells": [
  {
   "cell_type": "markdown",
   "metadata": {},
   "source": [
    "## NAME : ANSH PUJARA\n",
    "## AI-ML BATCH 1\n",
    "## DAY 6 ASSIGNMENT"
   ]
  },
  {
   "cell_type": "markdown",
   "metadata": {},
   "source": [
    "### Q1. Assuming that we have some email addresses in the \"username@companyname.com\" format, please write program to print the company name of a given email address. Both user names and company names are composed of letters only."
   ]
  },
  {
   "cell_type": "code",
   "execution_count": 2,
   "metadata": {},
   "outputs": [
    {
     "name": "stdout",
     "output_type": "stream",
     "text": [
      "xyzname@companyname.com\n",
      "companyname\n"
     ]
    }
   ],
   "source": [
    "email = str(input())\n",
    "company = \"\"\n",
    "for i in range(len(email)):\n",
    "    if (email[i] == '@'):\n",
    "        for j in range(i+1,len(email)):\n",
    "            if(email[j] == '.'):\n",
    "                break\n",
    "            company += email[j]\n",
    "        print(company)\n",
    "        break"
   ]
  },
  {
   "cell_type": "markdown",
   "metadata": {},
   "source": [
    "### Q2. Write a program that accepts a comma-separated sequence of words as input and prints the words in a comma separated sequence after sorting them alphabetically."
   ]
  },
  {
   "cell_type": "code",
   "execution_count": 6,
   "metadata": {},
   "outputs": [
    {
     "name": "stdout",
     "output_type": "stream",
     "text": [
      "without,hello,bag,world\n",
      "['bag', 'hello', 'without', 'world']\n"
     ]
    }
   ],
   "source": [
    "seq = str(input())\n",
    "l = seq.split(',')\n",
    "l.sort()\n",
    "print(l)"
   ]
  },
  {
   "cell_type": "markdown",
   "metadata": {},
   "source": [
    "### Q3. Sets"
   ]
  },
  {
   "cell_type": "code",
   "execution_count": 8,
   "metadata": {},
   "outputs": [
    {
     "name": "stdout",
     "output_type": "stream",
     "text": [
      "{'apple', 'cherry', 'banana'}\n",
      "True\n",
      "{'apple', 'cherry', 'orange', 'banana'}\n",
      "{'cherry', 'apple', 'orange', 'grapes', 'mango', 'banana'}\n",
      "6\n",
      "{'cherry', 'apple', 'orange', 'grapes', 'mango'}\n",
      "{'cherry', 'apple', 'orange', 'grapes', 'mango'}\n",
      "cherry\n",
      "{'apple', 'orange', 'grapes', 'mango'}\n",
      "set()\n"
     ]
    }
   ],
   "source": [
    "thisset = {\"apple\", \"banana\", \"cherry\"}\n",
    "print(thisset)\n",
    "print(\"banana\" in thisset)\n",
    "thisset.add(\"orange\")\n",
    "print(thisset)\n",
    "thisset.update([\"orange\", \"mango\", \"grapes\"])\n",
    "print(thisset)\n",
    "print(len(thisset))\n",
    "thisset.remove(\"banana\")\n",
    "print(thisset)\n",
    "thisset.discard(\"banana\")\n",
    "print(thisset)\n",
    "x = thisset.pop()\n",
    "print(x)\n",
    "print(thisset)\n",
    "thisset.clear()\n",
    "print(thisset)\n",
    "del thisset\n"
   ]
  },
  {
   "cell_type": "markdown",
   "metadata": {},
   "source": [
    "### Q4. Given a list of n-1 numbers ranging from 1 to n, your task is to find the missing number. There are no duplicates."
   ]
  },
  {
   "cell_type": "code",
   "execution_count": 14,
   "metadata": {},
   "outputs": [
    {
     "name": "stdout",
     "output_type": "stream",
     "text": [
      "1 2 3 5 6 7\n",
      "[1, 2, 3, 4, 5, 6, 7]\n"
     ]
    }
   ],
   "source": [
    "st = str(input())\n",
    "li = (st.split(' '))\n",
    "li = [int(x) for x in li]\n",
    "ln = len(li)\n",
    "total = (ln + 1)*(ln + 2) / 2\n",
    "sum_l = sum(li)\n",
    "li.append(int(total - sum_l))\n",
    "li.sort()\n",
    "print(li)"
   ]
  },
  {
   "cell_type": "markdown",
   "metadata": {},
   "source": [
    "### Q5. With a given list L, write a program to print this list L after removing all duplicate values with original order reserved."
   ]
  },
  {
   "cell_type": "code",
   "execution_count": 16,
   "metadata": {},
   "outputs": [
    {
     "name": "stdout",
     "output_type": "stream",
     "text": [
      "[1, 2, 3, 5, 6, 7, 8, 9]\n"
     ]
    }
   ],
   "source": [
    "L = [1, 2, 3, 3, 5, 6, 7, 9, 8, 1]\n",
    "L = list(set(L))\n",
    "print(L)"
   ]
  },
  {
   "cell_type": "code",
   "execution_count": null,
   "metadata": {},
   "outputs": [],
   "source": []
  }
 ],
 "metadata": {
  "kernelspec": {
   "display_name": "Python 3",
   "language": "python",
   "name": "python3"
  },
  "language_info": {
   "codemirror_mode": {
    "name": "ipython",
    "version": 3
   },
   "file_extension": ".py",
   "mimetype": "text/x-python",
   "name": "python",
   "nbconvert_exporter": "python",
   "pygments_lexer": "ipython3",
   "version": "3.7.6"
  }
 },
 "nbformat": 4,
 "nbformat_minor": 4
}
